{
 "cells": [
  {
   "cell_type": "markdown",
   "metadata": {},
   "source": [
    "#        EDA WITH PYTHON FOR THE DIVVY DATASET"
   ]
  },
  {
   "cell_type": "code",
   "execution_count": 154,
   "metadata": {},
   "outputs": [],
   "source": [
    "import pandas as pd\n",
    "import numpy as np\n",
    "import matplotlib.pyplot as plt\n",
    "import seaborn as sn"
   ]
  },
  {
   "cell_type": "code",
   "execution_count": 155,
   "metadata": {},
   "outputs": [],
   "source": [
    "df = pd.read_csv('divvy.csv')"
   ]
  },
  {
   "cell_type": "markdown",
   "metadata": {},
   "source": [
    "## Handling missing values"
   ]
  },
  {
   "cell_type": "code",
   "execution_count": 157,
   "metadata": {},
   "outputs": [
    {
     "data": {
      "text/plain": [
       "ride_id                   0\n",
       "rideable_type             0\n",
       "started_at                0\n",
       "ended_at                  0\n",
       "start_station_name    29283\n",
       "start_station_id      29283\n",
       "end_station_name      31158\n",
       "end_station_id        31158\n",
       "start_lat                 0\n",
       "start_lng                 0\n",
       "end_lat                 128\n",
       "end_lng                 128\n",
       "member_casual             0\n",
       "dtype: int64"
      ]
     },
     "execution_count": 157,
     "metadata": {},
     "output_type": "execute_result"
    }
   ],
   "source": [
    "df.isna().sum()"
   ]
  },
  {
   "cell_type": "code",
   "execution_count": 163,
   "metadata": {},
   "outputs": [
    {
     "data": {
      "text/html": [
       "<div>\n",
       "<style scoped>\n",
       "    .dataframe tbody tr th:only-of-type {\n",
       "        vertical-align: middle;\n",
       "    }\n",
       "\n",
       "    .dataframe tbody tr th {\n",
       "        vertical-align: top;\n",
       "    }\n",
       "\n",
       "    .dataframe thead th {\n",
       "        text-align: right;\n",
       "    }\n",
       "</style>\n",
       "<table border=\"1\" class=\"dataframe\">\n",
       "  <thead>\n",
       "    <tr style=\"text-align: right;\">\n",
       "      <th></th>\n",
       "      <th>start_station_name</th>\n",
       "      <th>start_station_id</th>\n",
       "      <th>end_station_name</th>\n",
       "      <th>end_station_id</th>\n",
       "    </tr>\n",
       "  </thead>\n",
       "  <tbody>\n",
       "    <tr>\n",
       "      <th>0</th>\n",
       "      <td>Kingsbury St &amp; Kinzie St</td>\n",
       "      <td>KA1503000043</td>\n",
       "      <td>Kingsbury St &amp; Kinzie St</td>\n",
       "      <td>KA1503000043</td>\n",
       "    </tr>\n",
       "  </tbody>\n",
       "</table>\n",
       "</div>"
      ],
      "text/plain": [
       "         start_station_name start_station_id          end_station_name  \\\n",
       "0  Kingsbury St & Kinzie St     KA1503000043  Kingsbury St & Kinzie St   \n",
       "\n",
       "  end_station_id  \n",
       "0   KA1503000043  "
      ]
     },
     "execution_count": 163,
     "metadata": {},
     "output_type": "execute_result"
    }
   ],
   "source": [
    "df[['start_station_name','start_station_id','end_station_name','end_station_id']].mode()"
   ]
  },
  {
   "cell_type": "code",
   "execution_count": 167,
   "metadata": {},
   "outputs": [],
   "source": [
    "# replacing the calculated mode above\n",
    "\n",
    "df['start_station_name'].fillna('Kingsbury St & Kinzie St', inplace= True)\n",
    "df['start_station_id'].fillna('KA1503000043', inplace= True)\n",
    "df['end_station_name'].fillna('Kingsbury St & Kinzie St', inplace= True)\n",
    "df['end_station_id'].fillna('KA1503000043', inplace= True)"
   ]
  },
  {
   "cell_type": "code",
   "execution_count": null,
   "metadata": {},
   "outputs": [],
   "source": [
    "df.isna().sum()"
   ]
  },
  {
   "cell_type": "code",
   "execution_count": 173,
   "metadata": {},
   "outputs": [],
   "source": [
    "df= df.dropna()"
   ]
  },
  {
   "cell_type": "code",
   "execution_count": 175,
   "metadata": {},
   "outputs": [
    {
     "data": {
      "text/plain": [
       "ride_id               0\n",
       "rideable_type         0\n",
       "started_at            0\n",
       "ended_at              0\n",
       "start_station_name    0\n",
       "start_station_id      0\n",
       "end_station_name      0\n",
       "end_station_id        0\n",
       "start_lat             0\n",
       "start_lng             0\n",
       "end_lat               0\n",
       "end_lng               0\n",
       "member_casual         0\n",
       "dtype: int64"
      ]
     },
     "execution_count": 175,
     "metadata": {},
     "output_type": "execute_result"
    }
   ],
   "source": [
    "df.isna().sum()"
   ]
  },
  {
   "cell_type": "code",
   "execution_count": 176,
   "metadata": {},
   "outputs": [
    {
     "data": {
      "text/plain": [
       "0"
      ]
     },
     "execution_count": 176,
     "metadata": {},
     "output_type": "execute_result"
    }
   ],
   "source": [
    "# check for duplicates \n",
    "\n",
    "df.duplicated().sum()"
   ]
  },
  {
   "cell_type": "markdown",
   "metadata": {},
   "source": [
    "### Modify column datatypes"
   ]
  },
  {
   "cell_type": "code",
   "execution_count": 179,
   "metadata": {},
   "outputs": [
    {
     "data": {
      "text/plain": [
       "ride_id                       object\n",
       "rideable_type                 object\n",
       "started_at            datetime64[ns]\n",
       "ended_at              datetime64[ns]\n",
       "start_station_name            object\n",
       "start_station_id              object\n",
       "end_station_name              object\n",
       "end_station_id                object\n",
       "start_lat                    float64\n",
       "start_lng                    float64\n",
       "end_lat                      float64\n",
       "end_lng                      float64\n",
       "member_casual                 object\n",
       "dtype: object"
      ]
     },
     "execution_count": 179,
     "metadata": {},
     "output_type": "execute_result"
    }
   ],
   "source": [
    "df.dtypes"
   ]
  },
  {
   "cell_type": "code",
   "execution_count": 178,
   "metadata": {},
   "outputs": [],
   "source": [
    "## date column to datetime\n",
    "df['started_at'] = pd.to_datetime(df['started_at'])\n",
    "df['ended_at'] = pd.to_datetime(df['ended_at'])"
   ]
  },
  {
   "cell_type": "markdown",
   "metadata": {},
   "source": [
    "## Exploratory analysis:"
   ]
  },
  {
   "cell_type": "markdown",
   "metadata": {},
   "source": [
    "## ---- Formatting new columns"
   ]
  },
  {
   "cell_type": "code",
   "execution_count": 180,
   "metadata": {},
   "outputs": [],
   "source": [
    "# featuring a ride_start_hour column\n",
    "\n",
    "df[\"ride_start_hour\"] = df[\"started_at\"].dt.hour\n"
   ]
  },
  {
   "cell_type": "code",
   "execution_count": 227,
   "metadata": {},
   "outputs": [
    {
     "data": {
      "text/plain": [
       "ride_id                        object\n",
       "rideable_type                  object\n",
       "started_at             datetime64[ns]\n",
       "ended_at               datetime64[ns]\n",
       "start_station_name             object\n",
       "start_station_id               object\n",
       "end_station_name               object\n",
       "end_station_id                 object\n",
       "start_lat                     float64\n",
       "start_lng                     float64\n",
       "end_lat                       float64\n",
       "end_lng                       float64\n",
       "member_casual                  object\n",
       "ride_start_hour                 int32\n",
       "ride_day_num                    int32\n",
       "ride_day                       object\n",
       "ride_duration(mins)           float64\n",
       "ride_category                  object\n",
       "ride_time_category             object\n",
       "ride_day_category              object\n",
       "dtype: object"
      ]
     },
     "execution_count": 227,
     "metadata": {},
     "output_type": "execute_result"
    }
   ],
   "source": [
    "df.dtypes\n",
    "\n"
   ]
  },
  {
   "cell_type": "code",
   "execution_count": 181,
   "metadata": {},
   "outputs": [],
   "source": [
    "# featuring a ride day column in numbers\n",
    "\n",
    "df[\"ride_day_num\"] = pd.to_datetime(df[\"started_at\"]).dt.dayofweek"
   ]
  },
  {
   "cell_type": "code",
   "execution_count": 182,
   "metadata": {},
   "outputs": [],
   "source": [
    "# featuring a ride day column in text\n",
    "\n",
    "df[\"ride_day\"] = pd.to_datetime(df[\"started_at\"]).dt.strftime('%A')\n"
   ]
  },
  {
   "cell_type": "code",
   "execution_count": null,
   "metadata": {},
   "outputs": [],
   "source": [
    "# featuring a ride month column--- All rides for this dataset happened in December\n",
    "\n",
    "#df[\"ride_mon\"] = pd.to_datetime(df[\"started_at\"]).dt.month\n",
    "#df.head()"
   ]
  },
  {
   "cell_type": "code",
   "execution_count": 183,
   "metadata": {},
   "outputs": [],
   "source": [
    "# new column for ride duration in minutes\n",
    "\n",
    "df['ride_duration(mins)'] = (df['ended_at'] - df['started_at']).dt.total_seconds()/60"
   ]
  },
  {
   "cell_type": "code",
   "execution_count": 185,
   "metadata": {},
   "outputs": [
    {
     "data": {
      "text/html": [
       "<div>\n",
       "<style scoped>\n",
       "    .dataframe tbody tr th:only-of-type {\n",
       "        vertical-align: middle;\n",
       "    }\n",
       "\n",
       "    .dataframe tbody tr th {\n",
       "        vertical-align: top;\n",
       "    }\n",
       "\n",
       "    .dataframe thead th {\n",
       "        text-align: right;\n",
       "    }\n",
       "</style>\n",
       "<table border=\"1\" class=\"dataframe\">\n",
       "  <thead>\n",
       "    <tr style=\"text-align: right;\">\n",
       "      <th></th>\n",
       "      <th>ride_id</th>\n",
       "      <th>rideable_type</th>\n",
       "      <th>started_at</th>\n",
       "      <th>ended_at</th>\n",
       "      <th>start_station_name</th>\n",
       "      <th>start_station_id</th>\n",
       "      <th>end_station_name</th>\n",
       "      <th>end_station_id</th>\n",
       "      <th>start_lat</th>\n",
       "      <th>start_lng</th>\n",
       "      <th>end_lat</th>\n",
       "      <th>end_lng</th>\n",
       "      <th>member_casual</th>\n",
       "      <th>ride_start_hour</th>\n",
       "      <th>ride_day_num</th>\n",
       "      <th>ride_day</th>\n",
       "      <th>ride_duration(mins)</th>\n",
       "    </tr>\n",
       "  </thead>\n",
       "  <tbody>\n",
       "    <tr>\n",
       "      <th>0</th>\n",
       "      <td>65DBD2F447EC51C2</td>\n",
       "      <td>electric_bike</td>\n",
       "      <td>2022-12-05 10:47:18</td>\n",
       "      <td>2022-12-05 10:56:34</td>\n",
       "      <td>Clifton Ave &amp; Armitage Ave</td>\n",
       "      <td>TA1307000163</td>\n",
       "      <td>Sedgwick St &amp; Webster Ave</td>\n",
       "      <td>13191</td>\n",
       "      <td>41.918244</td>\n",
       "      <td>-87.657115</td>\n",
       "      <td>41.922167</td>\n",
       "      <td>-87.638888</td>\n",
       "      <td>member</td>\n",
       "      <td>10</td>\n",
       "      <td>0</td>\n",
       "      <td>Monday</td>\n",
       "      <td>9.0</td>\n",
       "    </tr>\n",
       "    <tr>\n",
       "      <th>1</th>\n",
       "      <td>0C201AA7EA0EA1AD</td>\n",
       "      <td>classic_bike</td>\n",
       "      <td>2022-12-18 06:42:33</td>\n",
       "      <td>2022-12-18 07:08:44</td>\n",
       "      <td>Broadway &amp; Belmont Ave</td>\n",
       "      <td>13277</td>\n",
       "      <td>Sedgwick St &amp; Webster Ave</td>\n",
       "      <td>13191</td>\n",
       "      <td>41.940106</td>\n",
       "      <td>-87.645451</td>\n",
       "      <td>41.922167</td>\n",
       "      <td>-87.638888</td>\n",
       "      <td>casual</td>\n",
       "      <td>6</td>\n",
       "      <td>6</td>\n",
       "      <td>Sunday</td>\n",
       "      <td>26.0</td>\n",
       "    </tr>\n",
       "    <tr>\n",
       "      <th>2</th>\n",
       "      <td>E0B148CCB358A49D</td>\n",
       "      <td>electric_bike</td>\n",
       "      <td>2022-12-13 08:47:45</td>\n",
       "      <td>2022-12-13 08:59:51</td>\n",
       "      <td>Sangamon St &amp; Lake St</td>\n",
       "      <td>TA1306000015</td>\n",
       "      <td>St. Clair St &amp; Erie St</td>\n",
       "      <td>13016</td>\n",
       "      <td>41.885919</td>\n",
       "      <td>-87.651133</td>\n",
       "      <td>41.894345</td>\n",
       "      <td>-87.622798</td>\n",
       "      <td>member</td>\n",
       "      <td>8</td>\n",
       "      <td>1</td>\n",
       "      <td>Tuesday</td>\n",
       "      <td>12.0</td>\n",
       "    </tr>\n",
       "    <tr>\n",
       "      <th>3</th>\n",
       "      <td>54C5775D2B7C9188</td>\n",
       "      <td>classic_bike</td>\n",
       "      <td>2022-12-13 18:50:47</td>\n",
       "      <td>2022-12-13 19:19:48</td>\n",
       "      <td>Shields Ave &amp; 31st St</td>\n",
       "      <td>KA1503000038</td>\n",
       "      <td>Damen Ave &amp; Madison St</td>\n",
       "      <td>13134</td>\n",
       "      <td>41.838464</td>\n",
       "      <td>-87.635406</td>\n",
       "      <td>41.881370</td>\n",
       "      <td>-87.674930</td>\n",
       "      <td>member</td>\n",
       "      <td>18</td>\n",
       "      <td>1</td>\n",
       "      <td>Tuesday</td>\n",
       "      <td>29.0</td>\n",
       "    </tr>\n",
       "    <tr>\n",
       "      <th>4</th>\n",
       "      <td>A4891F78776D35DF</td>\n",
       "      <td>classic_bike</td>\n",
       "      <td>2022-12-14 16:13:39</td>\n",
       "      <td>2022-12-14 16:27:50</td>\n",
       "      <td>Ashland Ave &amp; Chicago Ave</td>\n",
       "      <td>13247</td>\n",
       "      <td>Damen Ave &amp; Charleston St</td>\n",
       "      <td>13288</td>\n",
       "      <td>41.895954</td>\n",
       "      <td>-87.667728</td>\n",
       "      <td>41.920082</td>\n",
       "      <td>-87.677855</td>\n",
       "      <td>casual</td>\n",
       "      <td>16</td>\n",
       "      <td>2</td>\n",
       "      <td>Wednesday</td>\n",
       "      <td>14.0</td>\n",
       "    </tr>\n",
       "  </tbody>\n",
       "</table>\n",
       "</div>"
      ],
      "text/plain": [
       "            ride_id  rideable_type          started_at            ended_at  \\\n",
       "0  65DBD2F447EC51C2  electric_bike 2022-12-05 10:47:18 2022-12-05 10:56:34   \n",
       "1  0C201AA7EA0EA1AD   classic_bike 2022-12-18 06:42:33 2022-12-18 07:08:44   \n",
       "2  E0B148CCB358A49D  electric_bike 2022-12-13 08:47:45 2022-12-13 08:59:51   \n",
       "3  54C5775D2B7C9188   classic_bike 2022-12-13 18:50:47 2022-12-13 19:19:48   \n",
       "4  A4891F78776D35DF   classic_bike 2022-12-14 16:13:39 2022-12-14 16:27:50   \n",
       "\n",
       "           start_station_name start_station_id           end_station_name  \\\n",
       "0  Clifton Ave & Armitage Ave     TA1307000163  Sedgwick St & Webster Ave   \n",
       "1      Broadway & Belmont Ave            13277  Sedgwick St & Webster Ave   \n",
       "2       Sangamon St & Lake St     TA1306000015     St. Clair St & Erie St   \n",
       "3       Shields Ave & 31st St     KA1503000038     Damen Ave & Madison St   \n",
       "4   Ashland Ave & Chicago Ave            13247  Damen Ave & Charleston St   \n",
       "\n",
       "  end_station_id  start_lat  start_lng    end_lat    end_lng member_casual  \\\n",
       "0          13191  41.918244 -87.657115  41.922167 -87.638888        member   \n",
       "1          13191  41.940106 -87.645451  41.922167 -87.638888        casual   \n",
       "2          13016  41.885919 -87.651133  41.894345 -87.622798        member   \n",
       "3          13134  41.838464 -87.635406  41.881370 -87.674930        member   \n",
       "4          13288  41.895954 -87.667728  41.920082 -87.677855        casual   \n",
       "\n",
       "   ride_start_hour  ride_day_num   ride_day  ride_duration(mins)  \n",
       "0               10             0     Monday                  9.0  \n",
       "1                6             6     Sunday                 26.0  \n",
       "2                8             1    Tuesday                 12.0  \n",
       "3               18             1    Tuesday                 29.0  \n",
       "4               16             2  Wednesday                 14.0  "
      ]
     },
     "execution_count": 185,
     "metadata": {},
     "output_type": "execute_result"
    }
   ],
   "source": [
    "df['ride_duration(mins)'] = df['ride_duration(mins)'].round(0)\n",
    "df.head()"
   ]
  },
  {
   "cell_type": "code",
   "execution_count": 189,
   "metadata": {},
   "outputs": [],
   "source": [
    "# ride_category column\n",
    "\n",
    "df['ride_category'] = 'paying'"
   ]
  },
  {
   "cell_type": "code",
   "execution_count": 191,
   "metadata": {},
   "outputs": [],
   "source": [
    "# Categorize riders based on ride duration\n",
    "\n",
    "df.loc[df['ride_duration(mins)'] <= 45, 'ride_category'] = 'free ride'"
   ]
  },
  {
   "cell_type": "code",
   "execution_count": 193,
   "metadata": {},
   "outputs": [],
   "source": [
    "# ride_time_category column\n",
    "\n",
    "df['ride_time_category'] = 'Off-Peak'\n"
   ]
  },
  {
   "cell_type": "code",
   "execution_count": 194,
   "metadata": {},
   "outputs": [],
   "source": [
    "df.loc[(df['ride_start_hour'] >= 7) & (df['ride_start_hour'] <= 10), 'ride_time_category'] = 'Peak'"
   ]
  },
  {
   "cell_type": "code",
   "execution_count": 195,
   "metadata": {},
   "outputs": [],
   "source": [
    "# formating the ride_time_category column\n",
    "\n",
    "df['ride_day_category'] = 'Weekday'\n"
   ]
  },
  {
   "cell_type": "code",
   "execution_count": 196,
   "metadata": {},
   "outputs": [],
   "source": [
    "df.loc[df['ride_day_num'] >= 5.0, 'ride_day_category'] = 'Weekend'"
   ]
  },
  {
   "cell_type": "code",
   "execution_count": 197,
   "metadata": {},
   "outputs": [
    {
     "data": {
      "text/html": [
       "<div>\n",
       "<style scoped>\n",
       "    .dataframe tbody tr th:only-of-type {\n",
       "        vertical-align: middle;\n",
       "    }\n",
       "\n",
       "    .dataframe tbody tr th {\n",
       "        vertical-align: top;\n",
       "    }\n",
       "\n",
       "    .dataframe thead th {\n",
       "        text-align: right;\n",
       "    }\n",
       "</style>\n",
       "<table border=\"1\" class=\"dataframe\">\n",
       "  <thead>\n",
       "    <tr style=\"text-align: right;\">\n",
       "      <th></th>\n",
       "      <th>ride_id</th>\n",
       "      <th>rideable_type</th>\n",
       "      <th>started_at</th>\n",
       "      <th>ended_at</th>\n",
       "      <th>start_station_name</th>\n",
       "      <th>start_station_id</th>\n",
       "      <th>end_station_name</th>\n",
       "      <th>end_station_id</th>\n",
       "      <th>start_lat</th>\n",
       "      <th>start_lng</th>\n",
       "      <th>end_lat</th>\n",
       "      <th>end_lng</th>\n",
       "      <th>member_casual</th>\n",
       "      <th>ride_start_hour</th>\n",
       "      <th>ride_day_num</th>\n",
       "      <th>ride_day</th>\n",
       "      <th>ride_duration(mins)</th>\n",
       "      <th>ride_category</th>\n",
       "      <th>ride_time_category</th>\n",
       "      <th>ride_day_category</th>\n",
       "    </tr>\n",
       "  </thead>\n",
       "  <tbody>\n",
       "    <tr>\n",
       "      <th>0</th>\n",
       "      <td>65DBD2F447EC51C2</td>\n",
       "      <td>electric_bike</td>\n",
       "      <td>2022-12-05 10:47:18</td>\n",
       "      <td>2022-12-05 10:56:34</td>\n",
       "      <td>Clifton Ave &amp; Armitage Ave</td>\n",
       "      <td>TA1307000163</td>\n",
       "      <td>Sedgwick St &amp; Webster Ave</td>\n",
       "      <td>13191</td>\n",
       "      <td>41.918244</td>\n",
       "      <td>-87.657115</td>\n",
       "      <td>41.922167</td>\n",
       "      <td>-87.638888</td>\n",
       "      <td>member</td>\n",
       "      <td>10</td>\n",
       "      <td>0</td>\n",
       "      <td>Monday</td>\n",
       "      <td>9.0</td>\n",
       "      <td>free ride</td>\n",
       "      <td>Peak</td>\n",
       "      <td>Weekday</td>\n",
       "    </tr>\n",
       "    <tr>\n",
       "      <th>1</th>\n",
       "      <td>0C201AA7EA0EA1AD</td>\n",
       "      <td>classic_bike</td>\n",
       "      <td>2022-12-18 06:42:33</td>\n",
       "      <td>2022-12-18 07:08:44</td>\n",
       "      <td>Broadway &amp; Belmont Ave</td>\n",
       "      <td>13277</td>\n",
       "      <td>Sedgwick St &amp; Webster Ave</td>\n",
       "      <td>13191</td>\n",
       "      <td>41.940106</td>\n",
       "      <td>-87.645451</td>\n",
       "      <td>41.922167</td>\n",
       "      <td>-87.638888</td>\n",
       "      <td>casual</td>\n",
       "      <td>6</td>\n",
       "      <td>6</td>\n",
       "      <td>Sunday</td>\n",
       "      <td>26.0</td>\n",
       "      <td>free ride</td>\n",
       "      <td>Off-Peak</td>\n",
       "      <td>Weekend</td>\n",
       "    </tr>\n",
       "    <tr>\n",
       "      <th>2</th>\n",
       "      <td>E0B148CCB358A49D</td>\n",
       "      <td>electric_bike</td>\n",
       "      <td>2022-12-13 08:47:45</td>\n",
       "      <td>2022-12-13 08:59:51</td>\n",
       "      <td>Sangamon St &amp; Lake St</td>\n",
       "      <td>TA1306000015</td>\n",
       "      <td>St. Clair St &amp; Erie St</td>\n",
       "      <td>13016</td>\n",
       "      <td>41.885919</td>\n",
       "      <td>-87.651133</td>\n",
       "      <td>41.894345</td>\n",
       "      <td>-87.622798</td>\n",
       "      <td>member</td>\n",
       "      <td>8</td>\n",
       "      <td>1</td>\n",
       "      <td>Tuesday</td>\n",
       "      <td>12.0</td>\n",
       "      <td>free ride</td>\n",
       "      <td>Peak</td>\n",
       "      <td>Weekday</td>\n",
       "    </tr>\n",
       "    <tr>\n",
       "      <th>3</th>\n",
       "      <td>54C5775D2B7C9188</td>\n",
       "      <td>classic_bike</td>\n",
       "      <td>2022-12-13 18:50:47</td>\n",
       "      <td>2022-12-13 19:19:48</td>\n",
       "      <td>Shields Ave &amp; 31st St</td>\n",
       "      <td>KA1503000038</td>\n",
       "      <td>Damen Ave &amp; Madison St</td>\n",
       "      <td>13134</td>\n",
       "      <td>41.838464</td>\n",
       "      <td>-87.635406</td>\n",
       "      <td>41.881370</td>\n",
       "      <td>-87.674930</td>\n",
       "      <td>member</td>\n",
       "      <td>18</td>\n",
       "      <td>1</td>\n",
       "      <td>Tuesday</td>\n",
       "      <td>29.0</td>\n",
       "      <td>free ride</td>\n",
       "      <td>Off-Peak</td>\n",
       "      <td>Weekday</td>\n",
       "    </tr>\n",
       "    <tr>\n",
       "      <th>4</th>\n",
       "      <td>A4891F78776D35DF</td>\n",
       "      <td>classic_bike</td>\n",
       "      <td>2022-12-14 16:13:39</td>\n",
       "      <td>2022-12-14 16:27:50</td>\n",
       "      <td>Ashland Ave &amp; Chicago Ave</td>\n",
       "      <td>13247</td>\n",
       "      <td>Damen Ave &amp; Charleston St</td>\n",
       "      <td>13288</td>\n",
       "      <td>41.895954</td>\n",
       "      <td>-87.667728</td>\n",
       "      <td>41.920082</td>\n",
       "      <td>-87.677855</td>\n",
       "      <td>casual</td>\n",
       "      <td>16</td>\n",
       "      <td>2</td>\n",
       "      <td>Wednesday</td>\n",
       "      <td>14.0</td>\n",
       "      <td>free ride</td>\n",
       "      <td>Off-Peak</td>\n",
       "      <td>Weekday</td>\n",
       "    </tr>\n",
       "  </tbody>\n",
       "</table>\n",
       "</div>"
      ],
      "text/plain": [
       "            ride_id  rideable_type          started_at            ended_at  \\\n",
       "0  65DBD2F447EC51C2  electric_bike 2022-12-05 10:47:18 2022-12-05 10:56:34   \n",
       "1  0C201AA7EA0EA1AD   classic_bike 2022-12-18 06:42:33 2022-12-18 07:08:44   \n",
       "2  E0B148CCB358A49D  electric_bike 2022-12-13 08:47:45 2022-12-13 08:59:51   \n",
       "3  54C5775D2B7C9188   classic_bike 2022-12-13 18:50:47 2022-12-13 19:19:48   \n",
       "4  A4891F78776D35DF   classic_bike 2022-12-14 16:13:39 2022-12-14 16:27:50   \n",
       "\n",
       "           start_station_name start_station_id           end_station_name  \\\n",
       "0  Clifton Ave & Armitage Ave     TA1307000163  Sedgwick St & Webster Ave   \n",
       "1      Broadway & Belmont Ave            13277  Sedgwick St & Webster Ave   \n",
       "2       Sangamon St & Lake St     TA1306000015     St. Clair St & Erie St   \n",
       "3       Shields Ave & 31st St     KA1503000038     Damen Ave & Madison St   \n",
       "4   Ashland Ave & Chicago Ave            13247  Damen Ave & Charleston St   \n",
       "\n",
       "  end_station_id  start_lat  start_lng    end_lat    end_lng member_casual  \\\n",
       "0          13191  41.918244 -87.657115  41.922167 -87.638888        member   \n",
       "1          13191  41.940106 -87.645451  41.922167 -87.638888        casual   \n",
       "2          13016  41.885919 -87.651133  41.894345 -87.622798        member   \n",
       "3          13134  41.838464 -87.635406  41.881370 -87.674930        member   \n",
       "4          13288  41.895954 -87.667728  41.920082 -87.677855        casual   \n",
       "\n",
       "   ride_start_hour  ride_day_num   ride_day  ride_duration(mins)  \\\n",
       "0               10             0     Monday                  9.0   \n",
       "1                6             6     Sunday                 26.0   \n",
       "2                8             1    Tuesday                 12.0   \n",
       "3               18             1    Tuesday                 29.0   \n",
       "4               16             2  Wednesday                 14.0   \n",
       "\n",
       "  ride_category ride_time_category ride_day_category  \n",
       "0     free ride               Peak           Weekday  \n",
       "1     free ride           Off-Peak           Weekend  \n",
       "2     free ride               Peak           Weekday  \n",
       "3     free ride           Off-Peak           Weekday  \n",
       "4     free ride           Off-Peak           Weekday  "
      ]
     },
     "execution_count": 197,
     "metadata": {},
     "output_type": "execute_result"
    }
   ],
   "source": [
    "df.head()"
   ]
  },
  {
   "cell_type": "markdown",
   "metadata": {},
   "source": [
    "### --- Answering EDA questions"
   ]
  },
  {
   "cell_type": "markdown",
   "metadata": {},
   "source": [
    " #### 1. What is the proportion of rides made by members compared to casual users?"
   ]
  },
  {
   "cell_type": "code",
   "execution_count": 198,
   "metadata": {},
   "outputs": [
    {
     "data": {
      "text/html": [
       "<div>\n",
       "<style scoped>\n",
       "    .dataframe tbody tr th:only-of-type {\n",
       "        vertical-align: middle;\n",
       "    }\n",
       "\n",
       "    .dataframe tbody tr th {\n",
       "        vertical-align: top;\n",
       "    }\n",
       "\n",
       "    .dataframe thead th {\n",
       "        text-align: right;\n",
       "    }\n",
       "</style>\n",
       "<table border=\"1\" class=\"dataframe\">\n",
       "  <thead>\n",
       "    <tr style=\"text-align: right;\">\n",
       "      <th></th>\n",
       "      <th>member_casual</th>\n",
       "      <th>count</th>\n",
       "    </tr>\n",
       "  </thead>\n",
       "  <tbody>\n",
       "    <tr>\n",
       "      <th>0</th>\n",
       "      <td>member</td>\n",
       "      <td>136887</td>\n",
       "    </tr>\n",
       "    <tr>\n",
       "      <th>1</th>\n",
       "      <td>casual</td>\n",
       "      <td>44791</td>\n",
       "    </tr>\n",
       "  </tbody>\n",
       "</table>\n",
       "</div>"
      ],
      "text/plain": [
       "  member_casual   count\n",
       "0        member  136887\n",
       "1        casual   44791"
      ]
     },
     "execution_count": 198,
     "metadata": {},
     "output_type": "execute_result"
    }
   ],
   "source": [
    "\n",
    "mem_cas_prop= df['member_casual'].value_counts().to_frame().reset_index()\n",
    "mem_cas_prop"
   ]
  },
  {
   "cell_type": "code",
   "execution_count": 199,
   "metadata": {},
   "outputs": [
    {
     "name": "stdout",
     "output_type": "stream",
     "text": [
      "The proportion of the rides made by members to casual is 1 : 3\n"
     ]
    }
   ],
   "source": [
    "# to get the exact proportion of  rides\n",
    "\n",
    "x= int((df['member_casual']== 'member').sum() / (df['member_casual']== 'member').sum()) # formula for the member portion\n",
    "y= int ((df['member_casual']== 'member').sum() / (df['member_casual']== 'casual').sum()) # formula for the casual portion\n",
    "\n",
    "print('The proportion of the rides made by members to casual is', x  ,':', y)"
   ]
  },
  {
   "cell_type": "markdown",
   "metadata": {},
   "source": []
  },
  {
   "cell_type": "markdown",
   "metadata": {},
   "source": [
    "#### 2. Do the proportions of free and paying rides change during different days of the week?\n"
   ]
  },
  {
   "cell_type": "code",
   "execution_count": 203,
   "metadata": {},
   "outputs": [
    {
     "data": {
      "text/html": [
       "<div>\n",
       "<style scoped>\n",
       "    .dataframe tbody tr th:only-of-type {\n",
       "        vertical-align: middle;\n",
       "    }\n",
       "\n",
       "    .dataframe tbody tr th {\n",
       "        vertical-align: top;\n",
       "    }\n",
       "\n",
       "    .dataframe thead th {\n",
       "        text-align: right;\n",
       "    }\n",
       "</style>\n",
       "<table border=\"1\" class=\"dataframe\">\n",
       "  <thead>\n",
       "    <tr style=\"text-align: right;\">\n",
       "      <th>ride_category</th>\n",
       "      <th>free ride</th>\n",
       "      <th>paying</th>\n",
       "    </tr>\n",
       "    <tr>\n",
       "      <th>ride_day</th>\n",
       "      <th></th>\n",
       "      <th></th>\n",
       "    </tr>\n",
       "  </thead>\n",
       "  <tbody>\n",
       "    <tr>\n",
       "      <th>Friday</th>\n",
       "      <td>26330</td>\n",
       "      <td>466</td>\n",
       "    </tr>\n",
       "    <tr>\n",
       "      <th>Monday</th>\n",
       "      <td>23523</td>\n",
       "      <td>290</td>\n",
       "    </tr>\n",
       "    <tr>\n",
       "      <th>Saturday</th>\n",
       "      <td>24081</td>\n",
       "      <td>458</td>\n",
       "    </tr>\n",
       "    <tr>\n",
       "      <th>Sunday</th>\n",
       "      <td>17109</td>\n",
       "      <td>332</td>\n",
       "    </tr>\n",
       "    <tr>\n",
       "      <th>Thursday</th>\n",
       "      <td>34722</td>\n",
       "      <td>529</td>\n",
       "    </tr>\n",
       "    <tr>\n",
       "      <th>Tuesday</th>\n",
       "      <td>27754</td>\n",
       "      <td>260</td>\n",
       "    </tr>\n",
       "    <tr>\n",
       "      <th>Wednesday</th>\n",
       "      <td>25528</td>\n",
       "      <td>296</td>\n",
       "    </tr>\n",
       "  </tbody>\n",
       "</table>\n",
       "</div>"
      ],
      "text/plain": [
       "ride_category  free ride  paying\n",
       "ride_day                        \n",
       "Friday             26330     466\n",
       "Monday             23523     290\n",
       "Saturday           24081     458\n",
       "Sunday             17109     332\n",
       "Thursday           34722     529\n",
       "Tuesday            27754     260\n",
       "Wednesday          25528     296"
      ]
     },
     "execution_count": 203,
     "metadata": {},
     "output_type": "execute_result"
    }
   ],
   "source": [
    "ride_cat_wkday = pd.crosstab(df['ride_day'], df['ride_category'])\n",
    "ride_cat_wkday"
   ]
  },
  {
   "cell_type": "code",
   "execution_count": 212,
   "metadata": {},
   "outputs": [
    {
     "data": {
      "image/png": "[encoded data removed]",
      "text/plain": [
       "<Figure size 900x400 with 2 Axes>"
      ]
     },
     "metadata": {},
     "output_type": "display_data"
    }
   ],
   "source": [
    "plt.figure(figsize=(9, 4))\n",
    "sn.heatmap(ride_cat_wkday, annot= True, fmt= '.0f', cmap='YlOrRd')\n",
    "plt.show()"
   ]
  },
  {
   "cell_type": "markdown",
   "metadata": {},
   "source": [
    "#### 3.  How does the distribution of ride durations vary between electric bikes and classic bikes?"
   ]
  },
  {
   "cell_type": "code",
   "execution_count": 213,
   "metadata": {},
   "outputs": [
    {
     "data": {
      "text/html": [
       "<div>\n",
       "<style scoped>\n",
       "    .dataframe tbody tr th:only-of-type {\n",
       "        vertical-align: middle;\n",
       "    }\n",
       "\n",
       "    .dataframe tbody tr th {\n",
       "        vertical-align: top;\n",
       "    }\n",
       "\n",
       "    .dataframe thead th {\n",
       "        text-align: right;\n",
       "    }\n",
       "</style>\n",
       "<table border=\"1\" class=\"dataframe\">\n",
       "  <thead>\n",
       "    <tr style=\"text-align: right;\">\n",
       "      <th></th>\n",
       "      <th>rideable_type</th>\n",
       "      <th>ride_duration(mins)</th>\n",
       "    </tr>\n",
       "  </thead>\n",
       "  <tbody>\n",
       "    <tr>\n",
       "      <th>0</th>\n",
       "      <td>electric_bike</td>\n",
       "      <td>1058227.0</td>\n",
       "    </tr>\n",
       "    <tr>\n",
       "      <th>1</th>\n",
       "      <td>classic_bike</td>\n",
       "      <td>887934.0</td>\n",
       "    </tr>\n",
       "  </tbody>\n",
       "</table>\n",
       "</div>"
      ],
      "text/plain": [
       "   rideable_type  ride_duration(mins)\n",
       "0  electric_bike            1058227.0\n",
       "1   classic_bike             887934.0"
      ]
     },
     "execution_count": 213,
     "metadata": {},
     "output_type": "execute_result"
    }
   ],
   "source": [
    "# 3. \n",
    "rid_dur_dist = df.groupby('rideable_type')['ride_duration(mins)'].sum().sort_values(ascending= False).to_frame().reset_index().head(2)\n",
    "rid_dur_dist"
   ]
  },
  {
   "cell_type": "code",
   "execution_count": 214,
   "metadata": {},
   "outputs": [
    {
     "data": {
      "image/png": "[encoded data removed]",
      "text/plain": [
       "<Figure size 640x480 with 1 Axes>"
      ]
     },
     "metadata": {},
     "output_type": "display_data"
    }
   ],
   "source": [
    "plt.bar(rid_dur_dist['rideable_type'], rid_dur_dist['ride_duration(mins)'], color= 'green')\n",
    "plt.grid()\n",
    "plt.show()\n"
   ]
  },
  {
   "cell_type": "markdown",
   "metadata": {},
   "source": [
    "#### 4.   Which start station has the highest average ride duration?"
   ]
  },
  {
   "cell_type": "code",
   "execution_count": 216,
   "metadata": {},
   "outputs": [
    {
     "data": {
      "text/html": [
       "<div>\n",
       "<style scoped>\n",
       "    .dataframe tbody tr th:only-of-type {\n",
       "        vertical-align: middle;\n",
       "    }\n",
       "\n",
       "    .dataframe tbody tr th {\n",
       "        vertical-align: top;\n",
       "    }\n",
       "\n",
       "    .dataframe thead th {\n",
       "        text-align: right;\n",
       "    }\n",
       "</style>\n",
       "<table border=\"1\" class=\"dataframe\">\n",
       "  <thead>\n",
       "    <tr style=\"text-align: right;\">\n",
       "      <th></th>\n",
       "      <th>start_station_name</th>\n",
       "      <th>ride_duration(mins)</th>\n",
       "    </tr>\n",
       "  </thead>\n",
       "  <tbody>\n",
       "    <tr>\n",
       "      <th>0</th>\n",
       "      <td>2112 W Peterson Ave</td>\n",
       "      <td>632.0</td>\n",
       "    </tr>\n",
       "  </tbody>\n",
       "</table>\n",
       "</div>"
      ],
      "text/plain": [
       "    start_station_name  ride_duration(mins)\n",
       "0  2112 W Peterson Ave                632.0"
      ]
     },
     "execution_count": 216,
     "metadata": {},
     "output_type": "execute_result"
    }
   ],
   "source": [
    "\n",
    "\n",
    "df.groupby('start_station_name')['ride_duration(mins)'].mean().rank(ascending= True).to_frame().head(1).reset_index()"
   ]
  },
  {
   "cell_type": "markdown",
   "metadata": {},
   "source": [
    "#### 5. Visualize the frequency of rides for member and casual riders during peak and off-peak times."
   ]
  },
  {
   "cell_type": "code",
   "execution_count": 217,
   "metadata": {},
   "outputs": [
    {
     "data": {
      "text/html": [
       "<div>\n",
       "<style scoped>\n",
       "    .dataframe tbody tr th:only-of-type {\n",
       "        vertical-align: middle;\n",
       "    }\n",
       "\n",
       "    .dataframe tbody tr th {\n",
       "        vertical-align: top;\n",
       "    }\n",
       "\n",
       "    .dataframe thead th {\n",
       "        text-align: right;\n",
       "    }\n",
       "</style>\n",
       "<table border=\"1\" class=\"dataframe\">\n",
       "  <thead>\n",
       "    <tr style=\"text-align: right;\">\n",
       "      <th>ride_time_category</th>\n",
       "      <th>Off-Peak</th>\n",
       "      <th>Peak</th>\n",
       "    </tr>\n",
       "    <tr>\n",
       "      <th>member_casual</th>\n",
       "      <th></th>\n",
       "      <th></th>\n",
       "    </tr>\n",
       "  </thead>\n",
       "  <tbody>\n",
       "    <tr>\n",
       "      <th>casual</th>\n",
       "      <td>37539</td>\n",
       "      <td>7252</td>\n",
       "    </tr>\n",
       "    <tr>\n",
       "      <th>member</th>\n",
       "      <td>106306</td>\n",
       "      <td>30581</td>\n",
       "    </tr>\n",
       "  </tbody>\n",
       "</table>\n",
       "</div>"
      ],
      "text/plain": [
       "ride_time_category  Off-Peak   Peak\n",
       "member_casual                      \n",
       "casual                 37539   7252\n",
       "member                106306  30581"
      ]
     },
     "execution_count": 217,
     "metadata": {},
     "output_type": "execute_result"
    }
   ],
   "source": [
    "\n",
    "\n",
    "ride_time_memb_cas = pd.crosstab(df['member_casual'],df['ride_time_category'] )\n",
    "ride_time_memb_cas\n"
   ]
  },
  {
   "cell_type": "code",
   "execution_count": 218,
   "metadata": {},
   "outputs": [
    {
     "data": {
      "image/png": "[encoded data removed]",
      "text/plain": [
       "<Figure size 640x480 with 1 Axes>"
      ]
     },
     "metadata": {},
     "output_type": "display_data"
    }
   ],
   "source": [
    "ride_time_memb_cas.plot(kind= 'bar')\n",
    "plt.show()"
   ]
  },
  {
   "cell_type": "markdown",
   "metadata": {},
   "source": [
    "### 6. Are certain stations more popular during peak hours compared to offpeak hours?\n"
   ]
  },
  {
   "cell_type": "code",
   "execution_count": 219,
   "metadata": {},
   "outputs": [
    {
     "data": {
      "text/html": [
       "<div>\n",
       "<style scoped>\n",
       "    .dataframe tbody tr th:only-of-type {\n",
       "        vertical-align: middle;\n",
       "    }\n",
       "\n",
       "    .dataframe tbody tr th {\n",
       "        vertical-align: top;\n",
       "    }\n",
       "\n",
       "    .dataframe thead th {\n",
       "        text-align: right;\n",
       "    }\n",
       "</style>\n",
       "<table border=\"1\" class=\"dataframe\">\n",
       "  <thead>\n",
       "    <tr style=\"text-align: right;\">\n",
       "      <th>ride_time_category</th>\n",
       "      <th>start_station_name</th>\n",
       "      <th>Off-Peak</th>\n",
       "      <th>Peak</th>\n",
       "    </tr>\n",
       "  </thead>\n",
       "  <tbody>\n",
       "    <tr>\n",
       "      <th>0</th>\n",
       "      <td>2112 W Peterson Ave</td>\n",
       "      <td>33</td>\n",
       "      <td>10</td>\n",
       "    </tr>\n",
       "    <tr>\n",
       "      <th>1</th>\n",
       "      <td>63rd St Beach</td>\n",
       "      <td>1</td>\n",
       "      <td>0</td>\n",
       "    </tr>\n",
       "    <tr>\n",
       "      <th>2</th>\n",
       "      <td>900 W Harrison St</td>\n",
       "      <td>396</td>\n",
       "      <td>69</td>\n",
       "    </tr>\n",
       "    <tr>\n",
       "      <th>3</th>\n",
       "      <td>Aberdeen St &amp; Jackson Blvd</td>\n",
       "      <td>423</td>\n",
       "      <td>133</td>\n",
       "    </tr>\n",
       "    <tr>\n",
       "      <th>4</th>\n",
       "      <td>Aberdeen St &amp; Monroe St</td>\n",
       "      <td>266</td>\n",
       "      <td>126</td>\n",
       "    </tr>\n",
       "    <tr>\n",
       "      <th>5</th>\n",
       "      <td>Aberdeen St &amp; Randolph St</td>\n",
       "      <td>336</td>\n",
       "      <td>73</td>\n",
       "    </tr>\n",
       "    <tr>\n",
       "      <th>6</th>\n",
       "      <td>Ada St &amp; Washington Blvd</td>\n",
       "      <td>197</td>\n",
       "      <td>69</td>\n",
       "    </tr>\n",
       "    <tr>\n",
       "      <th>7</th>\n",
       "      <td>Adler Planetarium</td>\n",
       "      <td>156</td>\n",
       "      <td>26</td>\n",
       "    </tr>\n",
       "    <tr>\n",
       "      <th>8</th>\n",
       "      <td>Albany Ave &amp; 16th St</td>\n",
       "      <td>2</td>\n",
       "      <td>0</td>\n",
       "    </tr>\n",
       "    <tr>\n",
       "      <th>9</th>\n",
       "      <td>Albany Ave &amp; 26th St</td>\n",
       "      <td>9</td>\n",
       "      <td>5</td>\n",
       "    </tr>\n",
       "  </tbody>\n",
       "</table>\n",
       "</div>"
      ],
      "text/plain": [
       "ride_time_category          start_station_name  Off-Peak  Peak\n",
       "0                          2112 W Peterson Ave        33    10\n",
       "1                                63rd St Beach         1     0\n",
       "2                            900 W Harrison St       396    69\n",
       "3                   Aberdeen St & Jackson Blvd       423   133\n",
       "4                      Aberdeen St & Monroe St       266   126\n",
       "5                    Aberdeen St & Randolph St       336    73\n",
       "6                     Ada St & Washington Blvd       197    69\n",
       "7                            Adler Planetarium       156    26\n",
       "8                         Albany Ave & 16th St         2     0\n",
       "9                         Albany Ave & 26th St         9     5"
      ]
     },
     "execution_count": 219,
     "metadata": {},
     "output_type": "execute_result"
    }
   ],
   "source": [
    "station_hr_pop = pd.crosstab(df['start_station_name'], df['ride_time_category']).reset_index().head(10)\n",
    "station_hr_pop"
   ]
  },
  {
   "cell_type": "markdown",
   "metadata": {},
   "source": [
    "### 7.How does the categorization of rides into peak and off-peak times impact daily rides?"
   ]
  },
  {
   "cell_type": "code",
   "execution_count": 221,
   "metadata": {},
   "outputs": [
    {
     "data": {
      "text/html": [
       "<div>\n",
       "<style scoped>\n",
       "    .dataframe tbody tr th:only-of-type {\n",
       "        vertical-align: middle;\n",
       "    }\n",
       "\n",
       "    .dataframe tbody tr th {\n",
       "        vertical-align: top;\n",
       "    }\n",
       "\n",
       "    .dataframe thead th {\n",
       "        text-align: right;\n",
       "    }\n",
       "</style>\n",
       "<table border=\"1\" class=\"dataframe\">\n",
       "  <thead>\n",
       "    <tr style=\"text-align: right;\">\n",
       "      <th>ride_day</th>\n",
       "      <th>Friday</th>\n",
       "      <th>Monday</th>\n",
       "      <th>Saturday</th>\n",
       "      <th>Sunday</th>\n",
       "      <th>Thursday</th>\n",
       "      <th>Tuesday</th>\n",
       "      <th>Wednesday</th>\n",
       "    </tr>\n",
       "    <tr>\n",
       "      <th>ride_time_category</th>\n",
       "      <th></th>\n",
       "      <th></th>\n",
       "      <th></th>\n",
       "      <th></th>\n",
       "      <th></th>\n",
       "      <th></th>\n",
       "      <th></th>\n",
       "    </tr>\n",
       "  </thead>\n",
       "  <tbody>\n",
       "    <tr>\n",
       "      <th>Off-Peak</th>\n",
       "      <td>21881</td>\n",
       "      <td>18819</td>\n",
       "      <td>20527</td>\n",
       "      <td>14747</td>\n",
       "      <td>26584</td>\n",
       "      <td>21190</td>\n",
       "      <td>20097</td>\n",
       "    </tr>\n",
       "    <tr>\n",
       "      <th>Peak</th>\n",
       "      <td>4915</td>\n",
       "      <td>4994</td>\n",
       "      <td>4012</td>\n",
       "      <td>2694</td>\n",
       "      <td>8667</td>\n",
       "      <td>6824</td>\n",
       "      <td>5727</td>\n",
       "    </tr>\n",
       "  </tbody>\n",
       "</table>\n",
       "</div>"
      ],
      "text/plain": [
       "ride_day            Friday  Monday  Saturday  Sunday  Thursday  Tuesday  \\\n",
       "ride_time_category                                                        \n",
       "Off-Peak             21881   18819     20527   14747     26584    21190   \n",
       "Peak                  4915    4994      4012    2694      8667     6824   \n",
       "\n",
       "ride_day            Wednesday  \n",
       "ride_time_category             \n",
       "Off-Peak                20097  \n",
       "Peak                     5727  "
      ]
     },
     "execution_count": 221,
     "metadata": {},
     "output_type": "execute_result"
    }
   ],
   "source": [
    "\n",
    "ride_time_wkday = pd.crosstab(df['ride_time_category'], df['ride_day'])\n",
    "ride_time_wkday"
   ]
  },
  {
   "cell_type": "code",
   "execution_count": 222,
   "metadata": {},
   "outputs": [
    {
     "data": {
      "text/plain": [
       "<Figure size 1500x600 with 0 Axes>"
      ]
     },
     "metadata": {},
     "output_type": "display_data"
    },
    {
     "data": {
      "image/png": "[encoded data removed]",
      "text/plain": [
       "<Figure size 640x480 with 1 Axes>"
      ]
     },
     "metadata": {},
     "output_type": "display_data"
    }
   ],
   "source": [
    "\n",
    "plt.figure(figsize=(15,6))\n",
    "ride_time_wkday.plot(kind='bar')\n",
    "plt.show()"
   ]
  },
  {
   "cell_type": "markdown",
   "metadata": {},
   "source": [
    "####  11.Visualize the number of trips by day of the week."
   ]
  },
  {
   "cell_type": "code",
   "execution_count": 223,
   "metadata": {},
   "outputs": [
    {
     "data": {
      "text/html": [
       "<div>\n",
       "<style scoped>\n",
       "    .dataframe tbody tr th:only-of-type {\n",
       "        vertical-align: middle;\n",
       "    }\n",
       "\n",
       "    .dataframe tbody tr th {\n",
       "        vertical-align: top;\n",
       "    }\n",
       "\n",
       "    .dataframe thead th {\n",
       "        text-align: right;\n",
       "    }\n",
       "</style>\n",
       "<table border=\"1\" class=\"dataframe\">\n",
       "  <thead>\n",
       "    <tr style=\"text-align: right;\">\n",
       "      <th></th>\n",
       "      <th>ride_day</th>\n",
       "      <th>count</th>\n",
       "    </tr>\n",
       "  </thead>\n",
       "  <tbody>\n",
       "    <tr>\n",
       "      <th>0</th>\n",
       "      <td>Thursday</td>\n",
       "      <td>35251</td>\n",
       "    </tr>\n",
       "    <tr>\n",
       "      <th>1</th>\n",
       "      <td>Tuesday</td>\n",
       "      <td>28014</td>\n",
       "    </tr>\n",
       "    <tr>\n",
       "      <th>2</th>\n",
       "      <td>Friday</td>\n",
       "      <td>26796</td>\n",
       "    </tr>\n",
       "    <tr>\n",
       "      <th>3</th>\n",
       "      <td>Wednesday</td>\n",
       "      <td>25824</td>\n",
       "    </tr>\n",
       "    <tr>\n",
       "      <th>4</th>\n",
       "      <td>Saturday</td>\n",
       "      <td>24539</td>\n",
       "    </tr>\n",
       "    <tr>\n",
       "      <th>5</th>\n",
       "      <td>Monday</td>\n",
       "      <td>23813</td>\n",
       "    </tr>\n",
       "    <tr>\n",
       "      <th>6</th>\n",
       "      <td>Sunday</td>\n",
       "      <td>17441</td>\n",
       "    </tr>\n",
       "  </tbody>\n",
       "</table>\n",
       "</div>"
      ],
      "text/plain": [
       "    ride_day  count\n",
       "0   Thursday  35251\n",
       "1    Tuesday  28014\n",
       "2     Friday  26796\n",
       "3  Wednesday  25824\n",
       "4   Saturday  24539\n",
       "5     Monday  23813\n",
       "6     Sunday  17441"
      ]
     },
     "execution_count": 223,
     "metadata": {},
     "output_type": "execute_result"
    }
   ],
   "source": [
    "\n",
    "\n",
    "trip_day_count = df['ride_day'].value_counts().to_frame().reset_index()\n",
    "trip_day_count"
   ]
  },
  {
   "cell_type": "code",
   "execution_count": 224,
   "metadata": {},
   "outputs": [
    {
     "data": {
      "image/png": "[encoded data removed]",
      "text/plain": [
       "<Figure size 640x480 with 1 Axes>"
      ]
     },
     "metadata": {},
     "output_type": "display_data"
    }
   ],
   "source": [
    "plt.bar(trip_day_count['ride_day'], trip_day_count['count'], color= 'red')\n",
    "plt.show()"
   ]
  },
  {
   "cell_type": "markdown",
   "metadata": {},
   "source": [
    "### 12.Visualize the number of trips by hour of the day."
   ]
  },
  {
   "cell_type": "code",
   "execution_count": 225,
   "metadata": {},
   "outputs": [
    {
     "data": {
      "text/html": [
       "<div>\n",
       "<style scoped>\n",
       "    .dataframe tbody tr th:only-of-type {\n",
       "        vertical-align: middle;\n",
       "    }\n",
       "\n",
       "    .dataframe tbody tr th {\n",
       "        vertical-align: top;\n",
       "    }\n",
       "\n",
       "    .dataframe thead th {\n",
       "        text-align: right;\n",
       "    }\n",
       "</style>\n",
       "<table border=\"1\" class=\"dataframe\">\n",
       "  <thead>\n",
       "    <tr style=\"text-align: right;\">\n",
       "      <th></th>\n",
       "      <th>ride_start_hour</th>\n",
       "      <th>count</th>\n",
       "    </tr>\n",
       "  </thead>\n",
       "  <tbody>\n",
       "    <tr>\n",
       "      <th>0</th>\n",
       "      <td>17</td>\n",
       "      <td>17075</td>\n",
       "    </tr>\n",
       "    <tr>\n",
       "      <th>1</th>\n",
       "      <td>16</td>\n",
       "      <td>16091</td>\n",
       "    </tr>\n",
       "    <tr>\n",
       "      <th>2</th>\n",
       "      <td>15</td>\n",
       "      <td>13800</td>\n",
       "    </tr>\n",
       "    <tr>\n",
       "      <th>3</th>\n",
       "      <td>18</td>\n",
       "      <td>12957</td>\n",
       "    </tr>\n",
       "    <tr>\n",
       "      <th>4</th>\n",
       "      <td>8</td>\n",
       "      <td>12340</td>\n",
       "    </tr>\n",
       "    <tr>\n",
       "      <th>5</th>\n",
       "      <td>14</td>\n",
       "      <td>10969</td>\n",
       "    </tr>\n",
       "    <tr>\n",
       "      <th>6</th>\n",
       "      <td>12</td>\n",
       "      <td>10806</td>\n",
       "    </tr>\n",
       "    <tr>\n",
       "      <th>7</th>\n",
       "      <td>13</td>\n",
       "      <td>10537</td>\n",
       "    </tr>\n",
       "    <tr>\n",
       "      <th>8</th>\n",
       "      <td>7</td>\n",
       "      <td>9932</td>\n",
       "    </tr>\n",
       "    <tr>\n",
       "      <th>9</th>\n",
       "      <td>11</td>\n",
       "      <td>9586</td>\n",
       "    </tr>\n",
       "    <tr>\n",
       "      <th>10</th>\n",
       "      <td>19</td>\n",
       "      <td>9377</td>\n",
       "    </tr>\n",
       "    <tr>\n",
       "      <th>11</th>\n",
       "      <td>9</td>\n",
       "      <td>8070</td>\n",
       "    </tr>\n",
       "    <tr>\n",
       "      <th>12</th>\n",
       "      <td>10</td>\n",
       "      <td>7491</td>\n",
       "    </tr>\n",
       "    <tr>\n",
       "      <th>13</th>\n",
       "      <td>20</td>\n",
       "      <td>6338</td>\n",
       "    </tr>\n",
       "    <tr>\n",
       "      <th>14</th>\n",
       "      <td>6</td>\n",
       "      <td>5332</td>\n",
       "    </tr>\n",
       "    <tr>\n",
       "      <th>15</th>\n",
       "      <td>21</td>\n",
       "      <td>5151</td>\n",
       "    </tr>\n",
       "    <tr>\n",
       "      <th>16</th>\n",
       "      <td>22</td>\n",
       "      <td>4338</td>\n",
       "    </tr>\n",
       "    <tr>\n",
       "      <th>17</th>\n",
       "      <td>23</td>\n",
       "      <td>3264</td>\n",
       "    </tr>\n",
       "    <tr>\n",
       "      <th>18</th>\n",
       "      <td>0</td>\n",
       "      <td>2405</td>\n",
       "    </tr>\n",
       "    <tr>\n",
       "      <th>19</th>\n",
       "      <td>5</td>\n",
       "      <td>1826</td>\n",
       "    </tr>\n",
       "    <tr>\n",
       "      <th>20</th>\n",
       "      <td>1</td>\n",
       "      <td>1642</td>\n",
       "    </tr>\n",
       "    <tr>\n",
       "      <th>21</th>\n",
       "      <td>2</td>\n",
       "      <td>997</td>\n",
       "    </tr>\n",
       "    <tr>\n",
       "      <th>22</th>\n",
       "      <td>4</td>\n",
       "      <td>696</td>\n",
       "    </tr>\n",
       "    <tr>\n",
       "      <th>23</th>\n",
       "      <td>3</td>\n",
       "      <td>658</td>\n",
       "    </tr>\n",
       "  </tbody>\n",
       "</table>\n",
       "</div>"
      ],
      "text/plain": [
       "    ride_start_hour  count\n",
       "0                17  17075\n",
       "1                16  16091\n",
       "2                15  13800\n",
       "3                18  12957\n",
       "4                 8  12340\n",
       "5                14  10969\n",
       "6                12  10806\n",
       "7                13  10537\n",
       "8                 7   9932\n",
       "9                11   9586\n",
       "10               19   9377\n",
       "11                9   8070\n",
       "12               10   7491\n",
       "13               20   6338\n",
       "14                6   5332\n",
       "15               21   5151\n",
       "16               22   4338\n",
       "17               23   3264\n",
       "18                0   2405\n",
       "19                5   1826\n",
       "20                1   1642\n",
       "21                2    997\n",
       "22                4    696\n",
       "23                3    658"
      ]
     },
     "execution_count": 225,
     "metadata": {},
     "output_type": "execute_result"
    }
   ],
   "source": [
    "\n",
    "\n",
    "trip_hour_count = df['ride_start_hour'].value_counts().to_frame().reset_index()\n",
    "trip_hour_count\n"
   ]
  },
  {
   "cell_type": "code",
   "execution_count": 226,
   "metadata": {},
   "outputs": [
    {
     "data": {
      "image/png": "[encoded data removed]",
      "text/plain": [
       "<Figure size 640x480 with 1 Axes>"
      ]
     },
     "metadata": {},
     "output_type": "display_data"
    }
   ],
   "source": [
    "plt.barh(trip_hour_count['ride_start_hour'], trip_hour_count['count'], color= 'gold', align='center')\n",
    "plt.xlabel('Number of rides')\n",
    "plt.ylabel('Ride hour')\n",
    "plt.show()\n"
   ]
  },
  {
   "cell_type": "code",
   "execution_count": 148,
   "metadata": {},
   "outputs": [],
   "source": [
    "# export final dataset\n",
    "\n",
    "df.to_csv(\"divvy2.csv\", index= False)"
   ]
  },
  {
   "cell_type": "code",
   "execution_count": null,
   "metadata": {},
   "outputs": [],
   "source": []
  }
 ],
 "metadata": {
  "kernelspec": {
   "display_name": ".venv",
   "language": "python",
   "name": "python3"
  },
  "language_info": {
   "codemirror_mode": {
    "name": "ipython",
    "version": 3
   },
   "file_extension": ".py",
   "mimetype": "text/x-python",
   "name": "python",
   "nbconvert_exporter": "python",
   "pygments_lexer": "ipython3",
   "version": "3.11.7"
  }
 },
 "nbformat": 4,
 "nbformat_minor": 2
}
